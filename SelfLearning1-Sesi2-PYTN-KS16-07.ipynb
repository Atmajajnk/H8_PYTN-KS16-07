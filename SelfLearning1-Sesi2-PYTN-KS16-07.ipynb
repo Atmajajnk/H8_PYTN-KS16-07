{
 "cells": [
  {
   "cell_type": "markdown",
   "id": "10697e4a",
   "metadata": {},
   "source": [
    "Nama : Atmaja Jalu Narendra Kisma\n",
    "Kode Peserta : PYTN-KS 16-07\n",
    "Asal : Universitas Amikom Purwokerto"
   ]
  },
  {
   "cell_type": "markdown",
   "id": "cda5b246",
   "metadata": {},
   "source": [
    "# Perulangan dan Percabangan"
   ]
  },
  {
   "cell_type": "code",
   "execution_count": 1,
   "id": "eb295e53",
   "metadata": {},
   "outputs": [
    {
     "name": "stdout",
     "output_type": "stream",
     "text": [
      "yes\n"
     ]
    }
   ],
   "source": [
    "## Contoh IF 1\n",
    "\n",
    "x = 0\n",
    "y = 5\n",
    "\n",
    "if x > y:\n",
    "    print(\"No\")\n",
    "else :\n",
    "    print (\"yes\")"
   ]
  },
  {
   "cell_type": "code",
   "execution_count": 2,
   "id": "0fe42a95",
   "metadata": {},
   "outputs": [
    {
     "name": "stdout",
     "output_type": "stream",
     "text": [
      "benar\n",
      "Ya\n"
     ]
    }
   ],
   "source": [
    "## Contoh IF 2\n",
    "\n",
    "a = 10\n",
    "b = 15\n",
    "\n",
    "if a > b:\n",
    "    print(\"Salah\")\n",
    "if a < b:\n",
    "    print(\"benar\")\n",
    "if \"Atmaja\" in [\"Atmaja\", \"Saktia\", \"Diana\"]:\n",
    "    print (\"Ya\")\n"
   ]
  },
  {
   "cell_type": "code",
   "execution_count": 3,
   "id": "3aaa0b43",
   "metadata": {},
   "outputs": [
    {
     "name": "stdout",
     "output_type": "stream",
     "text": [
      "salah\n",
      "Ada\n"
     ]
    }
   ],
   "source": [
    "## Contoh IF 3 Indentasi\n",
    "\n",
    "# Contoh yang salah indentasi\n",
    "if \"Apel\" in [\"Pisang\", \"Durian\", \"Anggur\"]:\n",
    "    print(\"Ada\")\n",
    "    print(\"enak\")\n",
    "print(\"salah\")\n",
    "\n",
    "# Contoh yang benar\n",
    "if \"Pisang\" in [\"Pisang\", \"Durian\", \"Anggur\"]:\n",
    "    print(\"Ada\")"
   ]
  },
  {
   "cell_type": "code",
   "execution_count": 4,
   "id": "9b819cf9",
   "metadata": {},
   "outputs": [
    {
     "name": "stdout",
     "output_type": "stream",
     "text": [
      "Kondisi di luar\n",
      "Diantara kondisi didalam\n",
      "Didalam kondisi 2\n",
      "Akhir Kondisi\n",
      "Setelah kondisi\n"
     ]
    }
   ],
   "source": [
    "## Conoth 4 Indentansi Rumit\n",
    "\n",
    "if \"Atmaja\" in [\"Atmaja\", \"Jalu\", \"Narendra\", \"Kisma\"]:\n",
    "    print(\"Kondisi di luar\")\n",
    "    \n",
    "    if 10 > 20:\n",
    "        print(\"Didalam kondisi 1\")\n",
    "        \n",
    "    print(\"Diantara kondisi didalam\")\n",
    "    \n",
    "    if 10 < 20:\n",
    "        print(\"Didalam kondisi 2\")\n",
    "        \n",
    "    print(\"Akhir Kondisi\")\n",
    "    \n",
    "print(\"Setelah kondisi\")"
   ]
  },
  {
   "cell_type": "markdown",
   "id": "b580e505",
   "metadata": {},
   "source": [
    "# ELSE & ELIF"
   ]
  },
  {
   "cell_type": "code",
   "execution_count": 5,
   "id": "75d9ef41",
   "metadata": {},
   "outputs": [
    {
     "name": "stdout",
     "output_type": "stream",
     "text": [
      "Pilihan 1 : \n",
      "a lebih kecil\n",
      "Pilihan 2 : \n",
      "b lebih besar\n"
     ]
    }
   ],
   "source": [
    "## Contoh 1 ELSE\n",
    "a = 10\n",
    "\n",
    "if a < 20:\n",
    "    print(\"Pilihan 1 : \")\n",
    "    print(\"a lebih kecil\")\n",
    "else:\n",
    "    print(\"Pilihan 2 : \")\n",
    "    print(\"a lebih besar\")\n",
    "    \n",
    "## Contoh 2 ELSE\n",
    "b = 100\n",
    "\n",
    "if b < 20:\n",
    "    print(\"Pilihan 1 : \")\n",
    "    print(\"a lebih kecil\")\n",
    "else:\n",
    "    print(\"Pilihan 2 : \")\n",
    "    print(\"b lebih besar\")"
   ]
  },
  {
   "cell_type": "code",
   "execution_count": 6,
   "id": "3c1bb608",
   "metadata": {},
   "outputs": [
    {
     "name": "stdout",
     "output_type": "stream",
     "text": [
      "Uang tidak cukup\n"
     ]
    }
   ],
   "source": [
    "## Contoh 3 ELSE\n",
    "hargaDiamondFF = 100000\n",
    "hargaDiamondML = 50000\n",
    "uang = 5000\n",
    "\n",
    "if uang > hargaDiamondFF:\n",
    "    print(\"Beli Diamond FF\")\n",
    "else:\n",
    "    print(\"Uang tidak cukup\")"
   ]
  },
  {
   "cell_type": "code",
   "execution_count": 7,
   "id": "d943c9a2",
   "metadata": {},
   "outputs": [
    {
     "name": "stdout",
     "output_type": "stream",
     "text": [
      "Uang tidak cukup\n"
     ]
    }
   ],
   "source": [
    "## Contoh 3 ELSE IF\n",
    "hargaDiamondFF = 100000\n",
    "hargaDiamondML = 50000\n",
    "uang = 5000\n",
    "\n",
    "if uang > hargaDiamondFF:\n",
    "    print(\"Beli Diamond FF\")\n",
    "elif uang > hargaDiamondML:\n",
    "    print(\"Beli Diamond ML\")\n",
    "else:\n",
    "    print(\"Uang tidak cukup\")"
   ]
  },
  {
   "cell_type": "code",
   "execution_count": 8,
   "id": "db2722e6",
   "metadata": {},
   "outputs": [
    {
     "name": "stdout",
     "output_type": "stream",
     "text": [
      "Helo Atmaja Hacktiv8\n"
     ]
    }
   ],
   "source": [
    "## Contoh 4 ELSE IF\n",
    "nama = \"Atmaja\"\n",
    "\n",
    "if nama == \"Jalu\":\n",
    "    print(\"Helo Jalu Hacktiv8\")\n",
    "elif nama == \"Narendra\":\n",
    "    print(\"Helo Narendra Hacktiv8\")\n",
    "elif nama == \"Atmaja\":\n",
    "    print(\"Helo Atmaja Hacktiv8\")\n",
    "else:\n",
    "    print(\"Saya tidak tahu!\")"
   ]
  },
  {
   "cell_type": "code",
   "execution_count": 9,
   "id": "138c46b9",
   "metadata": {},
   "outputs": [
    {
     "name": "stdout",
     "output_type": "stream",
     "text": [
      "Saya tidak tahu!\n"
     ]
    }
   ],
   "source": [
    "## Contoh 5 ELSE IF\n",
    "nama = \"Atmaja\"\n",
    "\n",
    "if nama == \"Jalu\":\n",
    "    print(\"Helo Jalu Hacktiv8\")\n",
    "elif nama == \"Narendra\":\n",
    "    print(\"Helo Narendra Hacktiv8\")\n",
    "elif nama == \"Abhiyaksa\":\n",
    "    print(\"Helo Atmaja Hacktiv8\")\n",
    "else:\n",
    "    print(\"Saya tidak tahu!\")"
   ]
  },
  {
   "cell_type": "code",
   "execution_count": 10,
   "id": "5183e5e4",
   "metadata": {},
   "outputs": [
    {
     "name": "stdout",
     "output_type": "stream",
     "text": [
      "1\n",
      "2\n",
      "3\n"
     ]
    }
   ],
   "source": [
    "## Contoh Satu Line Statement\n",
    "if \"f\" in \"foo\": print(\"1\"); print(\"2\"); print(\"3\")\n"
   ]
  },
  {
   "cell_type": "code",
   "execution_count": 11,
   "id": "37a96f8b",
   "metadata": {},
   "outputs": [
    {
     "name": "stdout",
     "output_type": "stream",
     "text": [
      "Hacktiv8\n",
      "Teknologi\n",
      "Indonesia\n"
     ]
    }
   ],
   "source": [
    "## Multiple statment satu line\n",
    "\n",
    "a = 2\n",
    "if a == 1: print(\"Atmaja\"); print(\"Jalu\"); print(\"Narendra\"); print(\"kisma\")\n",
    "elif a == 2: print (\"Hacktiv8\"); print(\"Teknologi\"); print(\"Indonesia\")\n",
    "else: print(\"Tidak ada!\")"
   ]
  },
  {
   "cell_type": "code",
   "execution_count": 12,
   "id": "a9051337",
   "metadata": {},
   "outputs": [
    {
     "name": "stdout",
     "output_type": "stream",
     "text": [
      "Hacktiv8\n",
      "Teknologi\n",
      "Indonesia\n"
     ]
    }
   ],
   "source": [
    "## Statment yang sama dan menarik\n",
    "\n",
    "a = 2\n",
    "if a == 1: \n",
    "    print(\"Atmaja\")\n",
    "    print(\"Jalu\")\n",
    "    print(\"Narendra\")\n",
    "    print(\"kisma\")\n",
    "elif a == 2: \n",
    "    print (\"Hacktiv8\")\n",
    "    print(\"Teknologi\")\n",
    "    print(\"Indonesia\")\n",
    "else:\n",
    "    print(\"Tidak ada!\")"
   ]
  },
  {
   "cell_type": "markdown",
   "id": "cf89c59e",
   "metadata": {},
   "source": [
    "### QUIZ\n",
    "Anda adalah penjual pisang. Yang mana pisang anda berharga 3000.\n",
    "\n",
    "Buatlah sebuah program if-else yg memiliki kondisi, jika seseorang berbelanja di Anda lebih dari 100,000 maka akan diberikan diskon 10%. Kalau lebih dari 50,000 namun kurang dari 100,000 maka akan diberi diskon 5%. Kalau kurang dari 50,000 maka tidak diberi diskon sama sekali.\n"
   ]
  },
  {
   "cell_type": "code",
   "execution_count": 1,
   "id": "5359948f",
   "metadata": {},
   "outputs": [
    {
     "name": "stdout",
     "output_type": "stream",
     "text": [
      "berapa pisang yang anda beli?\n",
      "12\n",
      "total belanja 36000\n"
     ]
    }
   ],
   "source": [
    "print('berapa pisang yang anda beli?')\n",
    "pisang = int(input())\n",
    "satupisang = 3000\n",
    "belanja = satupisang * pisang\n",
    "if belanja > 100000:\n",
    "    total = belanja - (belanja (10/100))\n",
    "    print('total belanja anda' + str(total) + '('+str(belanja) + 'diskon 10%)')\n",
    "elif belanja > 50000 and belanja < 100000:\n",
    "    total = belanja - (belanja (5/100))\n",
    "    print('total belanja anda' + str(total) + '('+str(belanja) + 'diskon 5%)')\n",
    "else:\n",
    "    total = belanja\n",
    "    print('total belanja ' + str (total))"
   ]
  },
  {
   "cell_type": "markdown",
   "id": "cc0593c2",
   "metadata": {},
   "source": [
    "# Conditional Expresion\n",
    "\n"
   ]
  },
  {
   "cell_type": "code",
   "execution_count": 13,
   "id": "0babf4d1",
   "metadata": {},
   "outputs": [
    {
     "name": "stdout",
     "output_type": "stream",
     "text": [
      "Ayo lari ke perpustakaan\n"
     ]
    }
   ],
   "source": [
    "# Contoh 1 true\n",
    "lari = True\n",
    "print(\"Ayo lari ke\", \"halaman\" if not lari else\"perpustakaan\")"
   ]
  },
  {
   "cell_type": "code",
   "execution_count": 14,
   "id": "802976b1",
   "metadata": {},
   "outputs": [
    {
     "name": "stdout",
     "output_type": "stream",
     "text": [
      "Ayo lari ke halaman\n"
     ]
    }
   ],
   "source": [
    "# Contoh 2 False\n",
    "lari = False\n",
    "print(\"Ayo lari ke\", \"halaman\" if not lari else\"perpustakaan\")"
   ]
  },
  {
   "cell_type": "code",
   "execution_count": 15,
   "id": "78058f92",
   "metadata": {},
   "outputs": [
    {
     "name": "stdout",
     "output_type": "stream",
     "text": [
      "Muda \n"
     ]
    }
   ],
   "source": [
    "## Contoh 3 yang lain\n",
    "umur = 22\n",
    "Atmaja = \"Muda \" if umur < 25 else \"TUA\"\n",
    "print(Atmaja)"
   ]
  },
  {
   "cell_type": "code",
   "execution_count": 16,
   "id": "0f284a58",
   "metadata": {},
   "outputs": [],
   "source": [
    "# Contoh 4 yang lain\n",
    "\n",
    "if a > b :\n",
    "    m = a\n",
    "else:\n",
    "    m = b"
   ]
  },
  {
   "cell_type": "markdown",
   "id": "922ebc7d",
   "metadata": {},
   "source": [
    "# Perulangan"
   ]
  },
  {
   "cell_type": "code",
   "execution_count": 17,
   "id": "08d2f502",
   "metadata": {},
   "outputs": [
    {
     "name": "stdout",
     "output_type": "stream",
     "text": [
      "4\n",
      "3\n",
      "2\n",
      "1\n",
      "0\n"
     ]
    }
   ],
   "source": [
    "# Contoh perulangan sederhana dari bawah ke atas\n",
    "n = 5\n",
    "while n > 0:\n",
    "    n -= 1\n",
    "    print(n)"
   ]
  },
  {
   "cell_type": "code",
   "execution_count": 18,
   "id": "4a15ed75",
   "metadata": {},
   "outputs": [
    {
     "name": "stdout",
     "output_type": "stream",
     "text": [
      "1\n",
      "2\n",
      "3\n",
      "4\n",
      "5\n"
     ]
    }
   ],
   "source": [
    "# Contoh perulangan sederhana kebawah\n",
    "m = 1\n",
    "while m <  6:\n",
    "    print(m)\n",
    "    m += 1\n",
    "    "
   ]
  },
  {
   "cell_type": "code",
   "execution_count": 2,
   "id": "d99c7269",
   "metadata": {},
   "outputs": [
    {
     "name": "stdout",
     "output_type": "stream",
     "text": [
      "1\n",
      "GENAP\n",
      "3\n",
      "GENAP\n",
      "5\n",
      "GENAP\n",
      "7\n",
      "GENAP\n",
      "9\n",
      "GENAP\n",
      "11\n",
      "GENAP\n",
      "13\n",
      "GENAP\n",
      "15\n",
      "GENAP\n",
      "17\n",
      "GENAP\n",
      "19\n",
      "GENAP\n"
     ]
    }
   ],
   "source": [
    "# Contoh ganjil dan genap\n",
    "i = 1\n",
    "while i <=20:\n",
    "    if i % 2==1:\n",
    "        print(i)\n",
    "    else:\n",
    "        print(\"GENAP\")\n",
    "    i+=1"
   ]
  },
  {
   "cell_type": "code",
   "execution_count": null,
   "id": "7110bf84",
   "metadata": {},
   "outputs": [],
   "source": []
  },
  {
   "cell_type": "markdown",
   "id": "8abb72d9",
   "metadata": {},
   "source": [
    "# Python Break"
   ]
  },
  {
   "cell_type": "code",
   "execution_count": 19,
   "id": "d14edcfc",
   "metadata": {},
   "outputs": [
    {
     "name": "stdout",
     "output_type": "stream",
     "text": [
      "4\n",
      "3\n",
      "2\n",
      "1\n",
      "Perulangan berhenti\n"
     ]
    }
   ],
   "source": [
    "#Contoh 1\n",
    "\n",
    "n = 5\n",
    "while n > 0:\n",
    "    n -= 1\n",
    "    if n == 0:\n",
    "        break\n",
    "    print(n)\n",
    "        \n",
    "print(\"Perulangan berhenti\")"
   ]
  },
  {
   "cell_type": "code",
   "execution_count": 20,
   "id": "78957150",
   "metadata": {},
   "outputs": [],
   "source": [
    "# Contoh 2\n",
    "\n",
    "n = 5\n",
    "while n > 0:\n",
    "    n -= 1\n",
    "    if n == 2:\n",
    "        break\n",
    "else:\n",
    "    print(\"Perulangan berhenti\")"
   ]
  },
  {
   "cell_type": "code",
   "execution_count": 21,
   "id": "20b5ca13",
   "metadata": {},
   "outputs": [
    {
     "name": "stdout",
     "output_type": "stream",
     "text": [
      "Anak Perempuan\n"
     ]
    }
   ],
   "source": [
    "# Contoh 3\n",
    "umur = 17\n",
    "gender = \"p\"\n",
    "if umur < 18:\n",
    "    if gender == \"L\":\n",
    "        print(\"Anak laki-laki\")\n",
    "    else:\n",
    "        print(\"Anak Perempuan\")\n",
    "elif umur >= 18 and umur <=65:\n",
    "    if gender == \"L\":\n",
    "        print(\"Bapak\")\n",
    "    else:\n",
    "        print(\"Ibu\")\n",
    "else:\n",
    "    if gender == \"L\":\n",
    "        print(\"Kakek\")\n",
    "    else:\n",
    "        print(\"Nenek\")"
   ]
  },
  {
   "cell_type": "code",
   "execution_count": 22,
   "id": "127c52d2",
   "metadata": {},
   "outputs": [
    {
     "name": "stdout",
     "output_type": "stream",
     "text": [
      "Atmaja\n",
      "Jalu\n",
      "Narendra\n",
      "Kisma\n"
     ]
    }
   ],
   "source": [
    "## Contoh 4 \n",
    "\n",
    "a = [\"Atmaja\", \"Jalu\", \"Narendra\", \"Kisma\"]\n",
    "\n",
    "for i in a:\n",
    "    print(i)"
   ]
  },
  {
   "cell_type": "code",
   "execution_count": 23,
   "id": "788be0df",
   "metadata": {},
   "outputs": [
    {
     "name": "stdout",
     "output_type": "stream",
     "text": [
      "Atmaja\n",
      "Hacktiv8\n",
      "1\n",
      "2\n",
      "Atmaja : 1\n",
      "Hacktiv8 : 2\n"
     ]
    }
   ],
   "source": [
    "## Contoh 5\n",
    "\n",
    "b = {\"Atmaja\" : 1, \"Hacktiv8\" : 2}\n",
    "\n",
    "# Pemanggilan Variable\n",
    "for k in b:\n",
    "    print(k)\n",
    "    \n",
    "# Pemanggilan Isi\n",
    "for k in b:\n",
    "    print(b[k])\n",
    "    \n",
    "# Pemanggilan item\n",
    "for k, v in b.items():\n",
    "    print(k, \":\", v)"
   ]
  },
  {
   "cell_type": "markdown",
   "id": "9311bfdc",
   "metadata": {},
   "source": [
    "# Else clause"
   ]
  },
  {
   "cell_type": "code",
   "execution_count": 24,
   "id": "e9227b43",
   "metadata": {},
   "outputs": [
    {
     "name": "stdout",
     "output_type": "stream",
     "text": [
      "Hacktive8\n",
      "Teknologi\n",
      "Indonesia\n",
      "Done.\n"
     ]
    }
   ],
   "source": [
    "## Contoh 1\n",
    "\n",
    "for i in [\"Hacktive8\", \"Teknologi\",\"Indonesia\"]:\n",
    "    print(i)\n",
    "else:\n",
    "    print('Done.')"
   ]
  },
  {
   "cell_type": "code",
   "execution_count": 25,
   "id": "84ea9712",
   "metadata": {},
   "outputs": [
    {
     "name": "stdout",
     "output_type": "stream",
     "text": [
      "Atmaja\n",
      "Jalu\n"
     ]
    }
   ],
   "source": [
    "## Contoh 2\n",
    "\n",
    "for i in[\"Atmaja\", \"Jalu\", \"Narendra\", \"Kisma\"]:\n",
    "    if i == \"Narendra\":\n",
    "        break\n",
    "    print(i)\n",
    "else:\n",
    "    print (\"Done.\")"
   ]
  },
  {
   "cell_type": "code",
   "execution_count": 26,
   "id": "1221b85e",
   "metadata": {},
   "outputs": [
    {
     "name": "stdout",
     "output_type": "stream",
     "text": [
      "Ketikkan Konversi temperatur: 98C\n",
      "Temperaturnya adalah 208 derajat Fahrenheit\n"
     ]
    }
   ],
   "source": [
    "## Contoh 3\n",
    "\n",
    "temp = input(\"Ketikkan Konversi temperatur: \")\n",
    "degree = int(temp[:-1])\n",
    "i_conversion = temp[-1]\n",
    "\n",
    "if i_conversion == \"C\":\n",
    "    result = int(round((9 * degree) / 5 + 32))\n",
    "    print(\"Temperaturnya adalah\", result, \"derajat Fahrenheit\")\n",
    "elif i_conversion == \"F\":\n",
    "    result = int(round((degree - 32) * 5 / 9))\n",
    "    print(\"Temperaturnya adalah\", result, \"derajat Celsius\")\n",
    "else:\n",
    "    print(\"Masukan Input yang benar!\")\n"
   ]
  },
  {
   "cell_type": "code",
   "execution_count": 27,
   "id": "a976ca71",
   "metadata": {},
   "outputs": [
    {
     "name": "stdout",
     "output_type": "stream",
     "text": [
      "Ketikkan karakter (ketik 'Done' untuk keluar): STOP\n",
      "stop\n",
      "Ketikkan karakter (ketik 'Done' untuk keluar): Done\n",
      "done\n",
      "Program berhenti.\n"
     ]
    }
   ],
   "source": [
    "## Contoh 4 mengubah huruf jadi kecil\n",
    "\n",
    "while True:\n",
    "    msg = input(\"Ketikkan karakter (ketik 'Done' untuk keluar): \").strip().lower()\n",
    "    print(msg)\n",
    "    if msg == \"done\":\n",
    "        print(\"Program berhenti.\")\n",
    "        break"
   ]
  }
 ],
 "metadata": {
  "kernelspec": {
   "display_name": "Python 3 (ipykernel)",
   "language": "python",
   "name": "python3"
  },
  "language_info": {
   "codemirror_mode": {
    "name": "ipython",
    "version": 3
   },
   "file_extension": ".py",
   "mimetype": "text/x-python",
   "name": "python",
   "nbconvert_exporter": "python",
   "pygments_lexer": "ipython3",
   "version": "3.9.12"
  }
 },
 "nbformat": 4,
 "nbformat_minor": 5
}
