{
 "cells": [
  {
   "cell_type": "markdown",
   "id": "859d56c4",
   "metadata": {},
   "source": [
    "Nama : Atmaja Jalu Narendra Kisma\n",
    "Kode Peserta : PYTN-KS 16-07\n",
    "Asal : Universitas Amikom Purwokerto"
   ]
  },
  {
   "cell_type": "markdown",
   "id": "06a262d1",
   "metadata": {},
   "source": [
    "# Tipe Data Python\n",
    "1. Integer (angka)\n",
    "2. Float (Decimal)\n",
    "3. Boolean (True/False)\n",
    "4. String (Huruf)\n",
    "5. List (urutan)"
   ]
  },
  {
   "cell_type": "code",
   "execution_count": 15,
   "id": "695525b6",
   "metadata": {},
   "outputs": [
    {
     "name": "stdout",
     "output_type": "stream",
     "text": [
      "Hasil Integer :  3\n",
      "Hasil Float : 1.5\n",
      "Hasil Boolean 1 :  False\n",
      "Hasil Boolean 2 :  True\n",
      "Hasil Boolean 3 :  True\n",
      "Hasil Boolean 4 :  False\n",
      "string :  atmaja jalu narendra kisma\n",
      "Hasil List :  ['apel', 'anggur', 'semangka']\n"
     ]
    }
   ],
   "source": [
    "# tipe data dengan variabel(bungkus)\n",
    "## Integer\n",
    "a = 1\n",
    "b = 2\n",
    "\n",
    "print(\"Hasil Integer : \", a+b)\n",
    "\n",
    "## Float\n",
    "c = 1.2\n",
    "d = 0.3\n",
    "\n",
    "print(\"Hasil Float :\", c+d)\n",
    "\n",
    "## Boolean\n",
    "e = 6\n",
    "f = 5\n",
    "\n",
    "print(\"Hasil Boolean 1 : \",e == f)\n",
    "print(\"Hasil Boolean 2 : \",e != f)\n",
    "print(\"Hasil Boolean 3 : \",e > f)\n",
    "print(\"Hasil Boolean 4 : \",e < f)\n",
    "\n",
    "## String\n",
    "g = \"atmaja \"\n",
    "h = \"jalu \"\n",
    "i = \"narendra \" \n",
    "j = \"kisma\"\n",
    "k = g+h+i+j\n",
    "print(\"string : \", k)\n",
    "\n",
    "##List\n",
    "l = [\"apel\", \"anggur\", \"semangka\"]\n",
    "print(\"Hasil List : \", l)"
   ]
  },
  {
   "cell_type": "markdown",
   "id": "1934e990",
   "metadata": {},
   "source": [
    "# Operator Python \n",
    "1. + Penambahan\n",
    "2. - Pengurangan\n",
    "3. * Perkalian\n",
    "4. / Pembagian\n",
    "5. % Modulus\n",
    "6. // Hasil Bagi\n",
    "7. ** Exposional"
   ]
  },
  {
   "cell_type": "code",
   "execution_count": 18,
   "id": "25feec93",
   "metadata": {},
   "outputs": [
    {
     "name": "stdout",
     "output_type": "stream",
     "text": [
      "Hasil Penjumlahan : 7\n",
      "Hasil Pengurangan : 3\n",
      "Hasil Perkalian : 10\n",
      "Hasil Pembagian : 2.5\n",
      "Hasil Modulus : 1\n",
      "Hasil Expotional : 2\n"
     ]
    }
   ],
   "source": [
    "## Operator\n",
    "\n",
    "a = 5\n",
    "b = 2\n",
    "tambah = a + b\n",
    "kurang = a - b\n",
    "kali = a * b\n",
    "bagi = a / b\n",
    "modulus = a % b\n",
    "hb = a // b\n",
    "expon = a ** b\n",
    "\n",
    "print(\"Hasil Penjumlahan :\", tambah)\n",
    "print(\"Hasil Pengurangan :\", kurang)\n",
    "print(\"Hasil Perkalian :\", kali)\n",
    "print(\"Hasil Pembagian :\", bagi)\n",
    "print(\"Hasil Modulus :\", modulus)\n",
    "print(\"Hasil Expotional :\", hb)\n"
   ]
  },
  {
   "cell_type": "markdown",
   "id": "c098a142",
   "metadata": {},
   "source": [
    "# Manipulasi String\n",
    "1. Manipulasi string dengan menggunakan operator\n",
    "2. Manipulasi dengan mengubah bentuk"
   ]
  },
  {
   "cell_type": "code",
   "execution_count": 26,
   "id": "cd6b7866",
   "metadata": {},
   "outputs": [
    {
     "name": "stdout",
     "output_type": "stream",
     "text": [
      "Penggabungan Teks Atmaja Hacktiv8 \n",
      "pengalian mitra Hacktiv8 Hacktiv8 Hacktiv8 Hacktiv8 \n",
      "bentuk kecil :  hacktiv8 \n",
      "bentuk kapital :  HACKTIV8 \n",
      "bentuk acak :  hACKTIV8 \n",
      "bentuk Huruf depan besar :  Hacktiv8 \n"
     ]
    }
   ],
   "source": [
    "#Manipulasi Operator\n",
    "saya = \"Atmaja \"\n",
    "mitra = \"Hacktiv8 \"\n",
    "sayamitra = saya + mitra\n",
    "mitrakali = mitra * 4\n",
    "print(\"Penggabungan Teks\", sayamitra)\n",
    "print(\"pengalian mitra\", mitrakali)\n",
    "\n",
    "#Manipulasi Bentuk\n",
    "print(\"bentuk kecil : \", mitra.lower())\n",
    "print(\"bentuk kapital : \", mitra.upper())\n",
    "print(\"bentuk acak : \", mitra.swapcase())\n",
    "print(\"bentuk Huruf depan besar : \", mitra.title())"
   ]
  },
  {
   "cell_type": "markdown",
   "id": "3867535b",
   "metadata": {},
   "source": [
    "# Python List\n",
    "1. Indeks Python\n",
    "2. Mengubah Indeks tertentu"
   ]
  },
  {
   "cell_type": "code",
   "execution_count": 33,
   "id": "b66405aa",
   "metadata": {},
   "outputs": [
    {
     "name": "stdout",
     "output_type": "stream",
     "text": [
      "List :  ['kucing', 'anjing', 'gajah', 'semut']\n",
      "indeks 1  kucing\n",
      "indeks 2  anjing\n",
      "indeks 1 - 3  ['kucing', 'anjing', 'gajah']\n"
     ]
    },
    {
     "data": {
      "text/plain": [
       "False"
      ]
     },
     "execution_count": 33,
     "metadata": {},
     "output_type": "execute_result"
    }
   ],
   "source": [
    "# Python List\n",
    "a = [\"kucing\", \"anjing\", \"gajah\", \"semut\"]\n",
    "b = [\"anjing\", \"kucing\", \"semut\", \"gajah\"]\n",
    "print(\"List : \", a)\n",
    "print(\"indeks 1 \", a[0])\n",
    "print(\"indeks 2 \", a[1])\n",
    "print(\"indeks 1 - 3 \", a[0:3])\n",
    "a==b"
   ]
  },
  {
   "cell_type": "markdown",
   "id": "018bde7f",
   "metadata": {},
   "source": [
    "# Python Tuple\n"
   ]
  },
  {
   "cell_type": "code",
   "execution_count": 37,
   "id": "a9272880",
   "metadata": {},
   "outputs": [
    {
     "name": "stdout",
     "output_type": "stream",
     "text": [
      "sawi\n",
      "('jeruk', 'sawi')\n"
     ]
    }
   ],
   "source": [
    "a = (\"jeruk\", \"sawi\")\n",
    "print(a[1])\n",
    "print(a)"
   ]
  },
  {
   "cell_type": "markdown",
   "id": "9518c167",
   "metadata": {},
   "source": [
    "# Python Dictionary\n"
   ]
  },
  {
   "cell_type": "code",
   "execution_count": 39,
   "id": "c1bb93be",
   "metadata": {},
   "outputs": [
    {
     "name": "stdout",
     "output_type": "stream",
     "text": [
      "Claude\n"
     ]
    }
   ],
   "source": [
    "MLBB = {\n",
    "    \"Gold Lane\" : \"Claude\",\n",
    "    \"Mid Lane\" : \"Pharsa\",\n",
    "    \"Hyper\" : \"Lancelot\",\n",
    "    \"EXP Lane\" : \"Edith\",\n",
    "    \"Roamer\" : \"Minotaur\"\n",
    "}\n",
    "\n",
    "print(MLBB[\"Gold Lane\"])"
   ]
  },
  {
   "cell_type": "code",
   "execution_count": 41,
   "id": "7d0b884e",
   "metadata": {},
   "outputs": [
    {
     "name": "stdout",
     "output_type": "stream",
     "text": [
      "{'Gold Lane': 'Claude', 'Mid Lane': 'Pharsa', 'Hyper': 'Lancelot', 'EXP Lane': 'Edith', 'Roamer': 'Minotaur', 'Beban': 'angela'}\n"
     ]
    }
   ],
   "source": [
    "## Menambahakan Dictionary baru\n",
    "\n",
    "MLBB[\"Beban\"] = \"angela\"\n",
    "\n",
    "print(MLBB)"
   ]
  },
  {
   "cell_type": "code",
   "execution_count": null,
   "id": "7f614753",
   "metadata": {},
   "outputs": [],
   "source": []
  }
 ],
 "metadata": {
  "kernelspec": {
   "display_name": "Python 3 (ipykernel)",
   "language": "python",
   "name": "python3"
  },
  "language_info": {
   "codemirror_mode": {
    "name": "ipython",
    "version": 3
   },
   "file_extension": ".py",
   "mimetype": "text/x-python",
   "name": "python",
   "nbconvert_exporter": "python",
   "pygments_lexer": "ipython3",
   "version": "3.9.12"
  }
 },
 "nbformat": 4,
 "nbformat_minor": 5
}
