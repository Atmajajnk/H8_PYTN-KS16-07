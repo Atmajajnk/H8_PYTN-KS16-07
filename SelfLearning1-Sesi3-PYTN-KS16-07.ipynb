{
 "cells": [
  {
   "cell_type": "markdown",
   "id": "9d46ed11",
   "metadata": {},
   "source": [
    "Nama : Atmaja Jalu Narendra Kisma\n",
    "Kode Peserta : PYTN-KS16-07\n",
    "Asal : Universitas Amikom Purwokerto"
   ]
  },
  {
   "cell_type": "markdown",
   "id": "47737376",
   "metadata": {},
   "source": [
    "# Function, Basic Module an package"
   ]
  },
  {
   "cell_type": "code",
   "execution_count": 2,
   "id": "e744391e",
   "metadata": {},
   "outputs": [
    {
     "name": "stdout",
     "output_type": "stream",
     "text": [
      "8\n"
     ]
    }
   ],
   "source": [
    "## Contoh 1\n",
    "\n",
    "def fungsisaya(p,l):\n",
    "    \"Fungsi menghitung luas persegi panjang\"\n",
    "    print(p*l)\n",
    "fungsisaya(2,4)"
   ]
  },
  {
   "cell_type": "code",
   "execution_count": 5,
   "id": "d85a76e4",
   "metadata": {},
   "outputs": [
    {
     "name": "stdout",
     "output_type": "stream",
     "text": [
      "Kalimat pertama fungsi\n",
      "kalimat kedua fungsi\n"
     ]
    }
   ],
   "source": [
    "## Contoh 2 fungsi string\n",
    "\n",
    "def printme( str ):\n",
    "    \"Ini adalah fungsi menggunakann tipe data string\"\n",
    "    print(str)\n",
    "    return\n",
    "\n",
    "# Pemanggilan fungsinya\n",
    "printme(\"Kalimat pertama fungsi\")\n",
    "printme(\"kalimat kedua fungsi\")"
   ]
  },
  {
   "cell_type": "code",
   "execution_count": 15,
   "id": "c8973e42",
   "metadata": {},
   "outputs": [
    {
     "name": "stdout",
     "output_type": "stream",
     "text": [
      "Ini adalah isi :  [10, 20, 30, [1, 2, 3, 4]]\n",
      "Ini adalah isi :  [10, 20, 30, [1, 2, 3, 4]]\n"
     ]
    }
   ],
   "source": [
    "# Contoh 3 mengubah list\n",
    "\n",
    "def ganti(mylist):\n",
    "    \"ini adalah cara mengganti list didalam fungsi\"\n",
    "    mylist.append([1,2,3,4]);\n",
    "    print(\"Ini adalah isi : \", mylist)\n",
    "    return\n",
    "\n",
    "# Sekarang kita ganti\n",
    "mylist = [10,20,30];\n",
    "ganti(mylist)\n",
    "print(\"Ini adalah isi : \", mylist)"
   ]
  },
  {
   "cell_type": "code",
   "execution_count": 16,
   "id": "c7b0480a",
   "metadata": {},
   "outputs": [
    {
     "name": "stdout",
     "output_type": "stream",
     "text": [
      "Ini adalah isi :  [1, 2, 3, 4]\n",
      "Ini adalah isi :  [10, 20, 30]\n"
     ]
    }
   ],
   "source": [
    "# Contoh 4 mengubah list\n",
    "\n",
    "def ganti(mylist):\n",
    "    \"ini adalah cara mengganti list didalam fungsi\"\n",
    "    mylist = [1,2,3,4];\n",
    "    print(\"Ini adalah isi : \", mylist)\n",
    "    return\n",
    "\n",
    "# Sekarang kita ganti\n",
    "mylist = [10,20,30];\n",
    "ganti(mylist)\n",
    "print(\"Ini adalah isi : \", mylist)"
   ]
  },
  {
   "cell_type": "code",
   "execution_count": 18,
   "id": "4f919988",
   "metadata": {},
   "outputs": [
    {
     "name": "stdout",
     "output_type": "stream",
     "text": [
      "Hacktiv8\n",
      "Atmaja\n"
     ]
    }
   ],
   "source": [
    "# Contoh 5\n",
    "def printme(str):\n",
    "    \"Menampilkan string function\"\n",
    "    print(str)\n",
    "    return;\n",
    "printme(str = \"Hacktiv8\")\n",
    "printme(str = \"Atmaja\")"
   ]
  },
  {
   "cell_type": "code",
   "execution_count": 19,
   "id": "c9c76ae2",
   "metadata": {},
   "outputs": [
    {
     "name": "stdout",
     "output_type": "stream",
     "text": [
      "Name :  Atmaja\n",
      "Age :  22\n"
     ]
    }
   ],
   "source": [
    "## Contoh 6 \n",
    "\n",
    "def printinfo(name, age):\n",
    "    \"Ini adalah 2 function\"\n",
    "    print(\"Name : \", name)\n",
    "    print(\"Age : \", age)\n",
    "    return;\n",
    "\n",
    "printinfo(name =\"Atmaja\", age=22)\n",
    "    "
   ]
  },
  {
   "cell_type": "code",
   "execution_count": 20,
   "id": "ee7ac3db",
   "metadata": {},
   "outputs": [
    {
     "name": "stdout",
     "output_type": "stream",
     "text": [
      "Nama :  hacktiv8\n",
      "Age :  50\n",
      "Nama :  Atmaja\n",
      "Age :  22\n"
     ]
    }
   ],
   "source": [
    "## Contoh 7\n",
    "\n",
    "def printinfo( name, age = 22):\n",
    "    \"Ini adalah contoh yang berbeda\"\n",
    "    print(\"Nama : \", name)\n",
    "    print(\"Age : \", age)\n",
    "    return;\n",
    "printinfo(age = 50, name= \"hacktiv8\")\n",
    "printinfo(name =\"Atmaja\")"
   ]
  },
  {
   "cell_type": "markdown",
   "id": "06675bd0",
   "metadata": {},
   "source": [
    "## Variable-length arguments"
   ]
  },
  {
   "cell_type": "code",
   "execution_count": 22,
   "id": "8cc6854b",
   "metadata": {},
   "outputs": [
    {
     "name": "stdout",
     "output_type": "stream",
     "text": [
      "output is : \n",
      "10\n",
      "output is : \n",
      "70\n",
      "60\n",
      "50\n",
      "a\n"
     ]
    }
   ],
   "source": [
    "## Contoh 1\n",
    "\n",
    "def printinfo(arg1, * vartuple):\n",
    "    \"Ini adalah variable passed argument\"\n",
    "    print(\"output is : \")\n",
    "    print(arg1)\n",
    "    for var in vartuple:\n",
    "        print(var)\n",
    "    return;\n",
    "printinfo(10)\n",
    "printinfo(70,60,50, \"a\")"
   ]
  },
  {
   "cell_type": "code",
   "execution_count": 3,
   "id": "6c860a5f",
   "metadata": {},
   "outputs": [
    {
     "name": "stdout",
     "output_type": "stream",
     "text": [
      "Total (lambda): 30\n",
      "Total (function): 40\n"
     ]
    }
   ],
   "source": [
    "## Contoh 2\n",
    "\n",
    "sum_lambda = lambda arg1, arg2: arg1 + arg2\n",
    "\n",
    "def sum_function(arg1, arg2):\n",
    "    return arg1 + arg2\n",
    "\n",
    "print(\"Total (lambda):\", sum_lambda(10, 20))\n",
    "print(\"Total (function):\", sum_function(20, 20))\n"
   ]
  },
  {
   "cell_type": "code",
   "execution_count": 6,
   "id": "5bc5d248",
   "metadata": {},
   "outputs": [
    {
     "name": "stdout",
     "output_type": "stream",
     "text": [
      "total function dengan cara dalam :  30\n",
      "total function dengan cara luar :  40\n"
     ]
    }
   ],
   "source": [
    "## Contoh 3\n",
    "\n",
    "def sum(arg1, arg2):\n",
    "    total = arg1+ arg2\n",
    "    total2 = total + arg1\n",
    "    print(\"total function dengan cara dalam : \", total)\n",
    "    return total2\n",
    "\n",
    "total = sum(10, 20)\n",
    "print(\"total function dengan cara luar : \", total)"
   ]
  },
  {
   "cell_type": "markdown",
   "id": "f4d4d914",
   "metadata": {},
   "source": [
    "## Global vs Local Variables"
   ]
  },
  {
   "cell_type": "code",
   "execution_count": 8,
   "id": "db65f634",
   "metadata": {},
   "outputs": [
    {
     "name": "stdout",
     "output_type": "stream",
     "text": [
      "Total Function luar 0\n"
     ]
    }
   ],
   "source": [
    "total = 0;\n",
    "\n",
    "def sum(arg1, arg2):\n",
    "    \n",
    "    total = arg1+ arg2;\n",
    "    print(\"Total function dalam : \", total)\n",
    "    return total;\n",
    "\n",
    "def min():\n",
    "    sum(10,20);\n",
    "print(\"Total Function luar\", total)"
   ]
  },
  {
   "cell_type": "code",
   "execution_count": 9,
   "id": "ed181a15",
   "metadata": {},
   "outputs": [
    {
     "data": {
      "text/plain": [
       "40"
      ]
     },
     "execution_count": 9,
     "metadata": {},
     "output_type": "execute_result"
    }
   ],
   "source": [
    "jumlahKucing =20\n",
    "\n",
    "def jumlahHewan ():\n",
    "    jumlahAnjing = 30\n",
    "    return jumlahKucing + jumlahAnjing\n",
    "\n",
    "def jumlahKelinci(): \n",
    "    return jumlahKucing + jumlahKucing\n",
    "\n",
    "jumlahHewan ()\n",
    "\n",
    "jumlahKelinci()"
   ]
  }
 ],
 "metadata": {
  "kernelspec": {
   "display_name": "Python 3 (ipykernel)",
   "language": "python",
   "name": "python3"
  },
  "language_info": {
   "codemirror_mode": {
    "name": "ipython",
    "version": 3
   },
   "file_extension": ".py",
   "mimetype": "text/x-python",
   "name": "python",
   "nbconvert_exporter": "python",
   "pygments_lexer": "ipython3",
   "version": "3.9.12"
  }
 },
 "nbformat": 4,
 "nbformat_minor": 5
}
