{
 "cells": [
  {
   "cell_type": "markdown",
   "id": "ae5fa5f2",
   "metadata": {},
   "source": [
    "Nama : Atmaja Jalu Narendra Kisma\n",
    "Kode Peserta : PYTN-KS16-07\n",
    "Asal : Universitas Amikom Purwokerto"
   ]
  },
  {
   "cell_type": "markdown",
   "id": "af9ec25f",
   "metadata": {},
   "source": [
    "# NUMPY"
   ]
  },
  {
   "cell_type": "markdown",
   "id": "9b40932a",
   "metadata": {},
   "source": [
    "## Array"
   ]
  },
  {
   "cell_type": "code",
   "execution_count": 7,
   "id": "4c8f4e9c",
   "metadata": {},
   "outputs": [
    {
     "name": "stdout",
     "output_type": "stream",
     "text": [
      "Requirement already satisfied: numpy in c:\\users\\atmaja jnk\\miniconda3\\lib\\site-packages (1.25.2)\n",
      "[1 2 3]\n",
      "[[0. 0. 0.]\n",
      " [0. 0. 0.]\n",
      " [0. 0. 0.]]\n",
      "[2.12199579e-314 1.21378159e-311 9.32795939e-321 3.79442416e-321\n",
      " 0.00000000e+000]\n"
     ]
    }
   ],
   "source": [
    "## Import Library\n",
    "!pip install numpy\n",
    "import numpy as np\n",
    "\n",
    "\n",
    "\n",
    "arr1 = np.array([1, 2, 3])\n",
    "arr2 = np.zeros((3, 3))\n",
    "arr3 = np.empty(5)\n",
    "\n",
    "print(arr1)\n",
    "print(arr2)\n",
    "print(arr3)"
   ]
  },
  {
   "cell_type": "code",
   "execution_count": 8,
   "id": "6542f216",
   "metadata": {},
   "outputs": [
    {
     "name": "stdout",
     "output_type": "stream",
     "text": [
      "masukan angka1 =12\n",
      "masukan operator =x\n",
      "masukan angka2 =23\n",
      "hasil dari 12 x 23 adalah 276\n"
     ]
    }
   ],
   "source": [
    "# Contoh 1\n",
    "\n",
    "def calc(a,b,c):\n",
    "    if (a.isnumeric()==True) and (c.isnumeric()==True):\n",
    "        a = int(a)\n",
    "        c = int(c)\n",
    "        if b == 'x':\n",
    "            print('hasil dari', a,b,c, 'adalah', a*c)\n",
    "        elif b == '+':\n",
    "            print('hasil dari', a,b,c, 'adalah', a+c)\n",
    "        elif b == ':':\n",
    "            print('hasil dari', a,b,c, 'adalah', a/c)\n",
    "        elif b == '-':\n",
    "            print('hasil dari', a,b,c, 'adalah', a-c)\n",
    "        elif b == '^':\n",
    "            print('hasil dari', a,b,c, 'adalah', a**c)\n",
    "        else:\n",
    "            print('operator', b, 'tidak ditemukan')\n",
    "    else:\n",
    "        print('salah')\n",
    "        \n",
    "a=(input('masukan angka1 ='))\n",
    "b=(input('masukan operator ='))\n",
    "c=(input('masukan angka2 ='))\n",
    "\n",
    "calc(a,b,c)\n"
   ]
  },
  {
   "cell_type": "code",
   "execution_count": 9,
   "id": "b147575c",
   "metadata": {},
   "outputs": [
    {
     "data": {
      "text/plain": [
       "True"
      ]
     },
     "execution_count": 9,
     "metadata": {},
     "output_type": "execute_result"
    }
   ],
   "source": [
    "# Contoh 2\n",
    "a = '3'\n",
    "c.isnumeric()"
   ]
  },
  {
   "cell_type": "code",
   "execution_count": 11,
   "id": "f7a45e65",
   "metadata": {},
   "outputs": [
    {
     "name": "stdout",
     "output_type": "stream",
     "text": [
      "bukan string\n"
     ]
    }
   ],
   "source": [
    "try:\n",
    "    int('string')\n",
    "except:\n",
    "    print('bukan string')"
   ]
  },
  {
   "cell_type": "code",
   "execution_count": 12,
   "id": "3d319975",
   "metadata": {},
   "outputs": [
    {
     "name": "stdout",
     "output_type": "stream",
     "text": [
      "[1 2 3]\n"
     ]
    }
   ],
   "source": [
    "# Contoh 3\n",
    "a=np.array([1,2,3])\n",
    "\n",
    "print(a)"
   ]
  },
  {
   "cell_type": "markdown",
   "id": "d53efd71",
   "metadata": {},
   "source": [
    "## One Dimensional Array"
   ]
  },
  {
   "cell_type": "code",
   "execution_count": 13,
   "id": "d99742b1",
   "metadata": {},
   "outputs": [
    {
     "name": "stdout",
     "output_type": "stream",
     "text": [
      "[1 2 3 4 5 6 7]\n"
     ]
    }
   ],
   "source": [
    "# Contoh 1\n",
    "array1 = np.array([1,2,3,4,5])\n",
    "print(np.append(array1,[6,7]))"
   ]
  },
  {
   "cell_type": "code",
   "execution_count": 14,
   "id": "e66601fc",
   "metadata": {},
   "outputs": [
    {
     "data": {
      "text/plain": [
       "array([3, 4, 5])"
      ]
     },
     "execution_count": 14,
     "metadata": {},
     "output_type": "execute_result"
    }
   ],
   "source": [
    "# Contoh 2\n",
    "array1[2:]"
   ]
  },
  {
   "cell_type": "code",
   "execution_count": 15,
   "id": "ad80824c",
   "metadata": {},
   "outputs": [
    {
     "data": {
      "text/plain": [
       "(5,)"
      ]
     },
     "execution_count": 15,
     "metadata": {},
     "output_type": "execute_result"
    }
   ],
   "source": [
    "# Contoh 3\n",
    "array1.shape"
   ]
  },
  {
   "cell_type": "markdown",
   "id": "2569ca52",
   "metadata": {},
   "source": [
    "## Two Dimensional Array"
   ]
  },
  {
   "cell_type": "code",
   "execution_count": 19,
   "id": "54d5f3c3",
   "metadata": {},
   "outputs": [
    {
     "data": {
      "text/plain": [
       "array([[ 1,  2,  3],\n",
       "       [ 4,  5,  6],\n",
       "       [ 7,  8,  9],\n",
       "       [10, 11, 12]])"
      ]
     },
     "execution_count": 19,
     "metadata": {},
     "output_type": "execute_result"
    }
   ],
   "source": [
    "# Contoh 1\n",
    "list = [[1,2,3],[4,5,6],[7,8,9],[10,11,12]]\n",
    "aray2 = np.array(list)\n",
    "aray2\n"
   ]
  },
  {
   "cell_type": "code",
   "execution_count": 20,
   "id": "c1c4ef08",
   "metadata": {},
   "outputs": [
    {
     "name": "stdout",
     "output_type": "stream",
     "text": [
      "(4, 3)\n"
     ]
    }
   ],
   "source": [
    "print(aray2.shape)"
   ]
  },
  {
   "cell_type": "markdown",
   "id": "a6b8182e",
   "metadata": {},
   "source": [
    "## Creating Array\n"
   ]
  },
  {
   "cell_type": "code",
   "execution_count": 21,
   "id": "494ed935",
   "metadata": {},
   "outputs": [
    {
     "name": "stdout",
     "output_type": "stream",
     "text": [
      "[0. 0. 0.]\n"
     ]
    }
   ],
   "source": [
    "# Contoh 1 1 Dimensi\n",
    "print(np.zeros(3))"
   ]
  },
  {
   "cell_type": "code",
   "execution_count": 22,
   "id": "874b218b",
   "metadata": {},
   "outputs": [
    {
     "name": "stdout",
     "output_type": "stream",
     "text": [
      "[[0. 0.]\n",
      " [0. 0.]\n",
      " [0. 0.]]\n"
     ]
    }
   ],
   "source": [
    "# Contoh 2 2 Dimensi\n",
    "print(np.zeros([3,2]))"
   ]
  },
  {
   "cell_type": "code",
   "execution_count": 23,
   "id": "2107d15f",
   "metadata": {},
   "outputs": [
    {
     "name": "stdout",
     "output_type": "stream",
     "text": [
      "[[1. 1.]\n",
      " [1. 1.]]\n"
     ]
    }
   ],
   "source": [
    "# Contoh Membuat array dengan angka 1\n",
    "print(np.ones([2,2]))"
   ]
  },
  {
   "cell_type": "code",
   "execution_count": 24,
   "id": "7e86c608",
   "metadata": {},
   "outputs": [
    {
     "name": "stdout",
     "output_type": "stream",
     "text": [
      "[1. 1. 1.]\n"
     ]
    }
   ],
   "source": [
    "print(np.ones(3))"
   ]
  },
  {
   "cell_type": "markdown",
   "id": "c1bc6cac",
   "metadata": {},
   "source": [
    "### Quiz"
   ]
  },
  {
   "cell_type": "code",
   "execution_count": 26,
   "id": "9197c5d1",
   "metadata": {},
   "outputs": [
    {
     "name": "stdout",
     "output_type": "stream",
     "text": [
      "how tall ? 12\n",
      "***********\n",
      " *********\n",
      "  *******\n",
      "   *****\n",
      "    ***\n",
      "     *\n",
      "    ***\n",
      "   *****\n",
      "  *******\n",
      " *********\n",
      "***********\n"
     ]
    }
   ],
   "source": [
    "n=int(input('how tall ? '))\n",
    "t=0\n",
    "\n",
    "if n%2==0:\n",
    "   t=n-1\n",
    "else:\n",
    "   t=n\n",
    "\n",
    "for i in range(0,t):\n",
    "   if (t-2*i)>0: \n",
    "      print(' '*i+'*'*(t-2*i))\n",
    "   else:\n",
    "      k=t-i-1\n",
    "      print(' '*k+'*'*(t-2*k))"
   ]
  },
  {
   "cell_type": "code",
   "execution_count": 27,
   "id": "df155898",
   "metadata": {},
   "outputs": [
    {
     "name": "stdout",
     "output_type": "stream",
     "text": [
      "[1 2 3 4 5 6 7]\n",
      "[1 2 4 5]\n",
      "[1 2 3 4 5]\n"
     ]
    }
   ],
   "source": [
    "x = np.array([1,2,3,4,5])\n",
    "\n",
    "#append untuk menambahkan elemen ke array \n",
    "print(np.append(x,[6,7]))\n",
    "#delete untuk menghapus elemen di array\n",
    "print(np.delete(x,2))\n",
    "#sort untuk menentukan axis, jenis, dan urutan saat memanggl fungsi\n",
    "print(np.sort(x))"
   ]
  },
  {
   "cell_type": "markdown",
   "id": "9ca40854",
   "metadata": {},
   "source": [
    "## Shape And Size"
   ]
  },
  {
   "cell_type": "code",
   "execution_count": 28,
   "id": "a6842728",
   "metadata": {},
   "outputs": [
    {
     "name": "stdout",
     "output_type": "stream",
     "text": [
      "1\n",
      "2\n",
      "13\n",
      "9\n",
      "[[1 2 3 4]\n",
      " [3 2 1 5]\n",
      " [6 7 8 9]]\n"
     ]
    }
   ],
   "source": [
    "# Contoh 1\n",
    "\n",
    "x = np.array([1,2,3,4,3,2,1,5,6,7,8,9,10])\n",
    "y = np.zeros((3,3))\n",
    "#ndim untuk memberi tahu jumlah axes atau dimensi dari array\n",
    "print(x.ndim)\n",
    "print(y.ndim)\n",
    "\n",
    "#size untuk memberti tahu jumlah total elemen array\n",
    "print(x.size)\n",
    "print(y.size)\n",
    "\n",
    "#reshape untuk memberikan bentuk baru ke array tanpa mengubah datanya\n",
    "print(x[:-1].reshape(3,4))"
   ]
  },
  {
   "cell_type": "code",
   "execution_count": 29,
   "id": "4ae8befc",
   "metadata": {},
   "outputs": [
    {
     "name": "stdout",
     "output_type": "stream",
     "text": [
      "(1, 4)\n",
      "[[1 2 3 4]]\n"
     ]
    }
   ],
   "source": [
    "# COntoh 2\n",
    "\n",
    "# np.newaxis untuk menambah axis\n",
    "a = np.array([1,2,3,4])\n",
    "a.shape\n",
    "\n",
    "a2 = a[np.newaxis]\n",
    "print(a2.shape)\n",
    "print(a2)"
   ]
  },
  {
   "cell_type": "code",
   "execution_count": 30,
   "id": "81556316",
   "metadata": {},
   "outputs": [
    {
     "name": "stdout",
     "output_type": "stream",
     "text": [
      "(1, 4)\n",
      "[[1 2 3 4]]\n"
     ]
    }
   ],
   "source": [
    "# Contoh 3\n",
    "\n",
    "# convert 1D ke 2D \n",
    "row_vector = a[np.newaxis, :]\n",
    "print(row_vector.shape)\n",
    "print(row_vector)"
   ]
  },
  {
   "cell_type": "code",
   "execution_count": 31,
   "id": "86dbb70d",
   "metadata": {},
   "outputs": [
    {
     "name": "stdout",
     "output_type": "stream",
     "text": [
      "(4, 1)\n",
      "[[1]\n",
      " [2]\n",
      " [3]\n",
      " [4]]\n"
     ]
    }
   ],
   "source": [
    "# Contoh 4\n",
    "\n",
    "col_vector = a[:, np.newaxis]\n",
    "print(col_vector.shape)\n",
    "print(col_vector)"
   ]
  },
  {
   "cell_type": "markdown",
   "id": "3a0fb70b",
   "metadata": {},
   "source": [
    "## Indexing & Slicing"
   ]
  },
  {
   "cell_type": "code",
   "execution_count": 32,
   "id": "cff77c07",
   "metadata": {},
   "outputs": [
    {
     "name": "stdout",
     "output_type": "stream",
     "text": [
      "[1 2 3]\n",
      "1\n",
      "2\n",
      "3\n",
      "[2 3]\n",
      "[3]\n",
      "[2 3]\n"
     ]
    }
   ],
   "source": [
    "# Contoh 1\n",
    "\n",
    "b = np.array([1,2,3])\n",
    "print(b)\n",
    "print(b[0])\n",
    "print(b[1])\n",
    "print(b[2])\n",
    "print(b[1:])\n",
    "print(b[-1:])\n",
    "print(b[b>=2])"
   ]
  },
  {
   "cell_type": "code",
   "execution_count": 34,
   "id": "4bd73adc",
   "metadata": {},
   "outputs": [
    {
     "name": "stdout",
     "output_type": "stream",
     "text": [
      "[2 4]\n"
     ]
    }
   ],
   "source": [
    "# Contoh 2\n",
    "divisible_by_2 = a[a%2==0]\n",
    "print(divisible_by_2)"
   ]
  },
  {
   "cell_type": "code",
   "execution_count": 35,
   "id": "900434a4",
   "metadata": {},
   "outputs": [
    {
     "name": "stdout",
     "output_type": "stream",
     "text": [
      "[2]\n"
     ]
    }
   ],
   "source": [
    "# Contoh 3\n",
    "\n",
    "c = a[(a>1) & (a<3)]\n",
    "print(c)"
   ]
  },
  {
   "cell_type": "code",
   "execution_count": 36,
   "id": "04dac847",
   "metadata": {},
   "outputs": [
    {
     "name": "stdout",
     "output_type": "stream",
     "text": [
      "[[1 2 3 4 5 6 7 8]]\n"
     ]
    }
   ],
   "source": [
    "# Contoh 4\n",
    "array3 = np.array([[1,2,3,4]])\n",
    "array4 = np.array([[5,6,7,8]])\n",
    "np.vstack([array3,array4]) #menumpuk array secara vertikal\n",
    "print(np.hstack([array3,array4]))"
   ]
  },
  {
   "cell_type": "code",
   "execution_count": 37,
   "id": "535cb322",
   "metadata": {},
   "outputs": [
    {
     "data": {
      "text/plain": [
       "array([1, 2, 3, 4, 5, 6, 7, 8])"
      ]
     },
     "execution_count": 37,
     "metadata": {},
     "output_type": "execute_result"
    }
   ],
   "source": [
    "# COntoh 5\n",
    "array5 = np.array([1,2,3,4])\n",
    "array6 = np.array([5,6,7,8])\n",
    "np.hstack([array5,array6]) #menumpuk array secara horizontal"
   ]
  },
  {
   "cell_type": "code",
   "execution_count": 38,
   "id": "3771477e",
   "metadata": {},
   "outputs": [
    {
     "name": "stdout",
     "output_type": "stream",
     "text": [
      "Stack secara Vertikal\n",
      "[[ 3  4  5  6  7]\n",
      " [ 7  8  9 10 11]]\n",
      "Stack secara Horizontal\n",
      "[ 3  4  5  6  7  7  8  9 10 11]\n"
     ]
    }
   ],
   "source": [
    "# Contoh 6 \n",
    "#stack\n",
    "array1 = np.array([3,4,5,6,7])\n",
    "array2 = np.array([7,8,9,10,11])\n",
    "print('Stack secara Vertikal')\n",
    "print(np.vstack([array1,array2]))\n",
    "print('Stack secara Horizontal')\n",
    "print(np.hstack([array1,array2]))"
   ]
  },
  {
   "cell_type": "code",
   "execution_count": 39,
   "id": "88c9fdf5",
   "metadata": {},
   "outputs": [
    {
     "data": {
      "text/plain": [
       "[array([3, 4, 5]), array([6, 7, 8])]"
      ]
     },
     "execution_count": 39,
     "metadata": {},
     "output_type": "execute_result"
    }
   ],
   "source": [
    "# Contoh 7\n",
    "#hsplit\n",
    "array3 = np.array([3,4,5,6,7,8])\n",
    "arraysplit = np.hsplit(array3,2)\n",
    "(arraysplit)"
   ]
  },
  {
   "cell_type": "code",
   "execution_count": 40,
   "id": "5181e7e4",
   "metadata": {},
   "outputs": [
    {
     "name": "stdout",
     "output_type": "stream",
     "text": [
      "(2, 4)\n",
      "Horizontal Split\n",
      "[array([[11, 21],\n",
      "       [41, 51]]), array([[31, 41],\n",
      "       [61, 71]])]\n",
      "Vertical Split\n",
      "[array([[11, 21, 31, 41]]), array([[41, 51, 61, 71]])]\n"
     ]
    }
   ],
   "source": [
    "# Contoh 8\n",
    "#vsplit\n",
    "array4 = np.array([[11,21,31,41],[41,51,61,71]])\n",
    "print(array4.shape)\n",
    "print('Horizontal Split')\n",
    "print(np.hsplit(array4,2))\n",
    "print('Vertical Split')\n",
    "print(np.vsplit(array4,2))"
   ]
  },
  {
   "cell_type": "code",
   "execution_count": 41,
   "id": "7d659e60",
   "metadata": {},
   "outputs": [
    {
     "data": {
      "text/plain": [
       "array([ 3,  4,  5,  6,  7,  8, 11, 12, 13, 14])"
      ]
     },
     "execution_count": 41,
     "metadata": {},
     "output_type": "execute_result"
    }
   ],
   "source": [
    "# COntoh 9\n",
    "np.append(array3,[11,12,13,14])"
   ]
  },
  {
   "cell_type": "code",
   "execution_count": 42,
   "id": "98e3f56c",
   "metadata": {},
   "outputs": [
    {
     "name": "stdout",
     "output_type": "stream",
     "text": [
      "[[23]\n",
      " [24]\n",
      " [25]\n",
      " [26]\n",
      " [27]\n",
      " [28]\n",
      " [29]]\n",
      "(7, 1)\n",
      "[[23 24 25 26 27 28 29]]\n",
      "(1, 7)\n"
     ]
    }
   ],
   "source": [
    "# Contoh 10\n",
    "#np.expand_dims\n",
    "array8 = np.array([23,24,25,26,27,28,29])\n",
    "array9 = np.expand_dims(array8,axis=1)\n",
    "array10 = np.expand_dims(array8,axis=0)\n",
    "print(array9)\n",
    "print(array9.shape)\n",
    "print(array10)\n",
    "print(array10.shape)\n"
   ]
  },
  {
   "cell_type": "markdown",
   "id": "2131fad9",
   "metadata": {},
   "source": [
    "## Operasi Matematika Pada Array\n"
   ]
  },
  {
   "cell_type": "code",
   "execution_count": 43,
   "id": "53e87986",
   "metadata": {},
   "outputs": [
    {
     "data": {
      "text/plain": [
       "array([2, 4, 6])"
      ]
     },
     "execution_count": 43,
     "metadata": {},
     "output_type": "execute_result"
    }
   ],
   "source": [
    "# Contoh 1\n",
    "array = np.array([1,2,3])\n",
    "array*2"
   ]
  },
  {
   "cell_type": "code",
   "execution_count": 44,
   "id": "ec4a65e2",
   "metadata": {},
   "outputs": [
    {
     "data": {
      "text/plain": [
       "array([[ 6,  7,  8],\n",
       "       [ 9, 10, 11]])"
      ]
     },
     "execution_count": 44,
     "metadata": {},
     "output_type": "execute_result"
    }
   ],
   "source": [
    "# Contoh 2\n",
    "array1 = np.array([[10,11,12],[13,14,15]])\n",
    "array1-4"
   ]
  },
  {
   "cell_type": "code",
   "execution_count": 45,
   "id": "b760add6",
   "metadata": {},
   "outputs": [
    {
     "data": {
      "text/plain": [
       "array([[5. , 5.5, 6. ],\n",
       "       [6.5, 7. , 7.5]])"
      ]
     },
     "execution_count": 45,
     "metadata": {},
     "output_type": "execute_result"
    }
   ],
   "source": [
    "# Contoh 3\n",
    "array1/2"
   ]
  },
  {
   "cell_type": "code",
   "execution_count": 46,
   "id": "11235d66",
   "metadata": {},
   "outputs": [
    {
     "data": {
      "text/plain": [
       "array([33, 42])"
      ]
     },
     "execution_count": 46,
     "metadata": {},
     "output_type": "execute_result"
    }
   ],
   "source": [
    "# Contoh 4\n",
    "# menjumlahkan kolom array1 dengan yang beraxis 1\n",
    "array1.sum(axis=1)"
   ]
  },
  {
   "cell_type": "code",
   "execution_count": 47,
   "id": "875f44c8",
   "metadata": {},
   "outputs": [
    {
     "data": {
      "text/plain": [
       "array([23, 25, 27])"
      ]
     },
     "execution_count": 47,
     "metadata": {},
     "output_type": "execute_result"
    }
   ],
   "source": [
    "# Contoh 5\n",
    "# menjumlahkan baris array1 dengan yang beraxis 0\n",
    "array1.sum(axis=0)"
   ]
  },
  {
   "cell_type": "markdown",
   "id": "5ee62da5",
   "metadata": {},
   "source": [
    "## Filtering Array"
   ]
  },
  {
   "cell_type": "code",
   "execution_count": 50,
   "id": "d7a16d95",
   "metadata": {},
   "outputs": [
    {
     "name": "stdout",
     "output_type": "stream",
     "text": [
      "[200 300 400 500]\n",
      "[400]\n",
      "[100 200 300 400 500]\n"
     ]
    }
   ],
   "source": [
    "# Contoh 1\n",
    "array2 = np.array([100,200,300,400,500])\n",
    "print(array2[array2>100])\n",
    "print(array2[array2==400])\n",
    "print(array2[array2<=800])"
   ]
  },
  {
   "cell_type": "code",
   "execution_count": 51,
   "id": "d7580902",
   "metadata": {},
   "outputs": [
    {
     "name": "stdout",
     "output_type": "stream",
     "text": [
      "[7 9]\n"
     ]
    }
   ],
   "source": [
    "# Contoh 2\n",
    "array3 = np.array([[1,3,5],[5,7,9],[-1,-2,-3]])\n",
    "array3.shape\n",
    "print(array3[array3>5])"
   ]
  },
  {
   "cell_type": "code",
   "execution_count": 52,
   "id": "65073c85",
   "metadata": {},
   "outputs": [
    {
     "name": "stdout",
     "output_type": "stream",
     "text": [
      "aku mau \n",
      " nasi \n",
      " 11\n"
     ]
    }
   ],
   "source": [
    "print('aku mau \\n nasi \\n 11')"
   ]
  },
  {
   "cell_type": "markdown",
   "id": "eba97d0b",
   "metadata": {},
   "source": [
    "## Operasi Aritmetik Antar 2 Array"
   ]
  },
  {
   "cell_type": "code",
   "execution_count": 53,
   "id": "77ecaaa2",
   "metadata": {},
   "outputs": [
    {
     "name": "stdout",
     "output_type": "stream",
     "text": [
      "[4 6 8]\n"
     ]
    }
   ],
   "source": [
    "# COntoh 1\n",
    "array_a = np.array([1,2,3])\n",
    "array_b = np.array([3,4,5])\n",
    "print(array_a+array_b)"
   ]
  },
  {
   "cell_type": "code",
   "execution_count": 54,
   "id": "1ba52f9d",
   "metadata": {},
   "outputs": [
    {
     "name": "stdout",
     "output_type": "stream",
     "text": [
      "[[-5 -5 -5]\n",
      " [-5 -5 -5]]\n"
     ]
    }
   ],
   "source": [
    "# Contoh 2\n",
    "array_c = np.array([[1,2,3],[4,5,6]])\n",
    "array_d = np.array([[6,7,8],[9,10,11]])\n",
    "print(array_c-array_d)"
   ]
  },
  {
   "cell_type": "code",
   "execution_count": 55,
   "id": "d9f007fe",
   "metadata": {},
   "outputs": [
    {
     "name": "stdout",
     "output_type": "stream",
     "text": [
      "6\n",
      "21\n",
      "[5 7 9]\n"
     ]
    }
   ],
   "source": [
    "# Contoh 3\n",
    "array_a = np.array([1,2,3])\n",
    "array_b = np.array([3,4,5])\n",
    "array_c = np.array([[1,2,3],[4,5,6]])\n",
    "array_d = np.array([[6,7,8],[9,10,11]])\n",
    "print(array_a.sum())\n",
    "print(array_c.sum())\n",
    "print(array_c.sum(axis=0))"
   ]
  },
  {
   "cell_type": "code",
   "execution_count": 56,
   "id": "3bbac638",
   "metadata": {},
   "outputs": [
    {
     "name": "stdout",
     "output_type": "stream",
     "text": [
      "[[1 2 3]\n",
      " [4 5 6]]\n",
      "[5 7 9]\n",
      "[ 6 15]\n"
     ]
    }
   ],
   "source": [
    "# Contoh 4\n",
    "array_c = np.array([[1,2,3],[4,5,6]])\n",
    "print(array_c)\n",
    "print(array_c.sum(axis=0))\n",
    "print(array_c.sum(axis=1))"
   ]
  },
  {
   "cell_type": "code",
   "execution_count": 57,
   "id": "e70a01ac",
   "metadata": {},
   "outputs": [
    {
     "name": "stdout",
     "output_type": "stream",
     "text": [
      "3\n",
      "6\n",
      "[[5 2 3]\n",
      " [4 5 6]]\n",
      "[5 5 6]\n",
      "[4 2 3]\n"
     ]
    }
   ],
   "source": [
    "# Contoh 5\n",
    "array_a = np.array([1,2,3])\n",
    "array_b = np.array([3,4,5])\n",
    "array_c = np.array([[5,2,3],[4,5,6]])\n",
    "print(array_a.max())\n",
    "print(array_c.max())\n",
    "print(array_c)\n",
    "print(array_c.max(axis=0))\n",
    "print(array_c.min(axis=0))"
   ]
  },
  {
   "cell_type": "markdown",
   "id": "f66de262",
   "metadata": {},
   "source": [
    "## Transposing"
   ]
  },
  {
   "cell_type": "code",
   "execution_count": 58,
   "id": "407b9c31",
   "metadata": {},
   "outputs": [
    {
     "name": "stdout",
     "output_type": "stream",
     "text": [
      "[[5 2 3]\n",
      " [4 5 6]]\n",
      "(2, 3)\n"
     ]
    }
   ],
   "source": [
    "# Contoh 1\n",
    "arrayx = np.array([[5,2,3],[4,5,6]])\n",
    "print(arrayx)\n",
    "print(arrayx.shape)"
   ]
  },
  {
   "cell_type": "code",
   "execution_count": 59,
   "id": "5bd312d4",
   "metadata": {},
   "outputs": [
    {
     "name": "stdout",
     "output_type": "stream",
     "text": [
      "[[5 4]\n",
      " [2 5]\n",
      " [3 6]]\n",
      "(3, 2)\n"
     ]
    }
   ],
   "source": [
    "# COntoh 2\n",
    "print(arrayx.T)\n",
    "print(arrayx.T.shape)"
   ]
  },
  {
   "cell_type": "code",
   "execution_count": 60,
   "id": "526a7a29",
   "metadata": {},
   "outputs": [
    {
     "name": "stdout",
     "output_type": "stream",
     "text": [
      "[[ 1  2  3  4  5]\n",
      " [ 4  5  6  7  8]\n",
      " [ 7  8  9 10 11]]\n",
      "(3, 5)\n"
     ]
    }
   ],
   "source": [
    "# Contoh 3\n",
    "arrayd = np.array([[1,2,3,4,5],[4,5,6,7,8],[7,8,9,10,11]])\n",
    "print(arrayd)\n",
    "print(arrayd.shape)"
   ]
  },
  {
   "cell_type": "code",
   "execution_count": 61,
   "id": "97c3cba4",
   "metadata": {},
   "outputs": [
    {
     "name": "stdout",
     "output_type": "stream",
     "text": [
      "[[ 1  4  7]\n",
      " [ 2  5  8]\n",
      " [ 3  6  9]\n",
      " [ 4  7 10]\n",
      " [ 5  8 11]]\n",
      "(5, 3)\n"
     ]
    }
   ],
   "source": [
    "# Contoh 4\n",
    "print(arrayd.T)\n",
    "print(arrayd.T.shape)"
   ]
  },
  {
   "cell_type": "code",
   "execution_count": 62,
   "id": "141a36cd",
   "metadata": {},
   "outputs": [
    {
     "name": "stdout",
     "output_type": "stream",
     "text": [
      "[[18.30496999 64.46500259 63.64001619 60.22081526 49.45743334]\n",
      " [42.23772022 20.41094618 53.68991766 20.67955447 56.73130108]\n",
      " [91.4148528  17.86542774 86.12162987 67.61574846 79.94655242]]\n"
     ]
    }
   ],
   "source": [
    "# Contoh 5\n",
    "array_random = np.random.random([3,5])*100\n",
    "print(array_random)"
   ]
  },
  {
   "cell_type": "code",
   "execution_count": 63,
   "id": "ec86713a",
   "metadata": {},
   "outputs": [
    {
     "name": "stdout",
     "output_type": "stream",
     "text": [
      "[[[33.15569911 31.33264712]]\n",
      "\n",
      " [[27.69312363 18.62912423]]\n",
      "\n",
      " [[95.1918412  73.40091558]]]\n",
      "[33.15569911 31.33264712 27.69312363 18.62912423 95.1918412  73.40091558]\n"
     ]
    }
   ],
   "source": [
    "# Contoh 6\n",
    "array_random = np.random.random([3,1,2])*100\n",
    "print(array_random)\n",
    "print(array_random.flatten())"
   ]
  },
  {
   "cell_type": "markdown",
   "id": "887acc28",
   "metadata": {},
   "source": [
    "# Numpy Math Formulas"
   ]
  },
  {
   "cell_type": "code",
   "execution_count": 64,
   "id": "60008d87",
   "metadata": {},
   "outputs": [
    {
     "name": "stdout",
     "output_type": "stream",
     "text": [
      "[[9.60644523 9.46695309]]\n"
     ]
    },
    {
     "data": {
      "text/plain": [
       "19.073398323648533"
      ]
     },
     "execution_count": 64,
     "metadata": {},
     "output_type": "execute_result"
    }
   ],
   "source": [
    "# Contoh 1\n",
    "array_random = np.random.random([1,2])*10\n",
    "print(array_random)\n",
    "np.sum(array_random)"
   ]
  },
  {
   "cell_type": "code",
   "execution_count": 65,
   "id": "d58b356f",
   "metadata": {},
   "outputs": [
    {
     "data": {
      "text/plain": [
       "3364"
      ]
     },
     "execution_count": 65,
     "metadata": {},
     "output_type": "execute_result"
    }
   ],
   "source": [
    "np.square(58)"
   ]
  },
  {
   "cell_type": "code",
   "execution_count": 66,
   "id": "6d937026",
   "metadata": {},
   "outputs": [
    {
     "data": {
      "text/plain": [
       "3.0"
      ]
     },
     "execution_count": 66,
     "metadata": {},
     "output_type": "execute_result"
    }
   ],
   "source": [
    "np.sqrt(9)"
   ]
  },
  {
   "cell_type": "code",
   "execution_count": 67,
   "id": "23523cfc",
   "metadata": {},
   "outputs": [
    {
     "name": "stdout",
     "output_type": "stream",
     "text": [
      "4.605170185988092\n"
     ]
    }
   ],
   "source": [
    "a = np.log(100)\n",
    "print(a)"
   ]
  },
  {
   "cell_type": "code",
   "execution_count": 68,
   "id": "17492b0a",
   "metadata": {},
   "outputs": [
    {
     "data": {
      "text/plain": [
       "100.00000000000004"
      ]
     },
     "execution_count": 68,
     "metadata": {},
     "output_type": "execute_result"
    }
   ],
   "source": [
    "np.exp(a)\n"
   ]
  },
  {
   "cell_type": "markdown",
   "id": "54c4092e",
   "metadata": {},
   "source": [
    "### Quiz"
   ]
  },
  {
   "cell_type": "code",
   "execution_count": 70,
   "id": "dfa88cb0",
   "metadata": {},
   "outputs": [
    {
     "name": "stdout",
     "output_type": "stream",
     "text": [
      "Please, Enter the Lowest Range Value: 1\n",
      "Please, Enter the Upper Range Value: 12\n",
      "The Prime Numbers in the range are: \n",
      "2\n",
      "3\n",
      "5\n",
      "7\n",
      "11\n"
     ]
    }
   ],
   "source": [
    "## First, we will take the input:  \n",
    "lower_value = int(input (\"Please, Enter the Lowest Range Value: \"))  \n",
    "upper_value = int(input (\"Please, Enter the Upper Range Value: \"))  \n",
    "  \n",
    "print (\"The Prime Numbers in the range are: \")  \n",
    "for number in range (lower_value, upper_value + 1):  \n",
    "    if number > 1:  \n",
    "        for i in range (2, number):  \n",
    "            if (number % i) == 0:  \n",
    "                break  \n",
    "        else:  \n",
    "            print (number) "
   ]
  }
 ],
 "metadata": {
  "kernelspec": {
   "display_name": "Python 3 (ipykernel)",
   "language": "python",
   "name": "python3"
  },
  "language_info": {
   "codemirror_mode": {
    "name": "ipython",
    "version": 3
   },
   "file_extension": ".py",
   "mimetype": "text/x-python",
   "name": "python",
   "nbconvert_exporter": "python",
   "pygments_lexer": "ipython3",
   "version": "3.9.12"
  }
 },
 "nbformat": 4,
 "nbformat_minor": 5
}
